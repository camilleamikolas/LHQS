{
 "cells": [
  {
   "cell_type": "code",
   "execution_count": 1,
   "id": "0f955e37-6fa2-4ce9-a31d-bb15bf9598b4",
   "metadata": {},
   "outputs": [],
   "source": [
    "import numpy as np\n",
    "\n",
    "from tabulate import tabulate\n",
    "from IPython.display import clear_output\n",
    "from experiment_CM3 import *\n",
    "from newinstruments.nwa2 import *\n",
    "from newinstruments.instrumenttypes import *\n",
    "\n",
    "import time\n",
    "import numpy as np\n",
    "import matplotlib.pyplot as plt\n",
    "\n",
    "from scripts.openfiles import *\n",
    "from tqdm import tqdm\n",
    "\n",
    "#from IPython.display import display, HTML\n",
    "#%config InlineBackend.figure_format='retina'"
   ]
  },
  {
   "cell_type": "code",
   "execution_count": null,
   "id": "5a4155da",
   "metadata": {},
   "outputs": [],
   "source": [
    "from pymeasure.instruments.srs import sr830, sr844\n",
    "from pymeasure.instruments.yokogawa import yokogawa7651, yokogawaGS200\n",
    "from pymeasure.instruments.agilent import Agilent33500\n",
    "from newinstruments.SignalHound import SignalHoundSA124B\n",
    "from newinstruments.SignalCore import SignalCore\n",
    "from newinstruments.BlueFors import BlueFors\n",
    "from newinstruments.nwa2 import *\n",
    "#from newinstruments.mcc_daq import *"
   ]
  },
  {
   "cell_type": "code",
   "execution_count": 4,
   "id": "dc1bca9d",
   "metadata": {},
   "outputs": [],
   "source": [
    "vna = E5071_2('GPIB0::2::INSTR')\n",
    "\n",
    "yoko_Lch     = yokogawaGS200.YokogawaGS200('GPIB1::7::INSTR')\n",
    "yoko_pinch     = yokogawaGS200.YokogawaGS200('GPIB1::1::INSTR')\n",
    "yoko_Lchgt    = yokogawaGS200.YokogawaGS200(\"GPIB1::21::INSTR\")\n",
    "yoko_gtAll    = yokogawaGS200.YokogawaGS200(\"GPIB1::6::INSTR\")\n",
    "yoko_res    = yokogawa7651.Yokogawa7651(\"GPIB1::3::INSTR\")\n",
    "\n",
    "filament    = Agilent33500(\"GPIB1::17::INSTR\")\n",
    "lockin_HF   = sr844.SR844('GPIB1::11::INSTR')\n",
    "daq         = mcc_daq()\n",
    "\n",
    "generator   = Agilent33500(\"GPIB1::19::INSTR\")\n",
    "\n",
    "bluefors    = BlueFors()"
   ]
  },
  {
   "cell_type": "code",
   "execution_count": 5,
   "id": "46474cf3",
   "metadata": {},
   "outputs": [],
   "source": [
    "gain = 1e-6*1e9     # 1e-6 is 1uA/V, 1e9 is nA\n",
    "GHz = 1e9\n",
    "MHz = 1e6\n",
    "kHz = 1e3\n",
    "\n",
    "tau = 1.0\n",
    "o14 = 0.0 \n",
    "o23 = 0.0 \n",
    "\n",
    "T6 = bluefors.get_temperature(6)\n",
    "print(T6)"
   ]
  },
  {
   "cell_type": "code",
   "execution_count": 7,
   "id": "b3dc211e",
   "metadata": {},
   "outputs": [],
   "source": [
    "#generator.shape     = 'SIN'   \n",
    "generator.frequency = 3*MHz              \n",
    "generator.amplitude = 0.2\n",
    "#generator.output    = 'on'               "
   ]
  },
  {
   "cell_type": "code",
   "execution_count": 8,
   "id": "f0da24f7",
   "metadata": {},
   "outputs": [
    {
     "name": "stdout",
     "output_type": "stream",
     "text": [
      "0.001\n"
     ]
    }
   ],
   "source": [
    "lockin_HF.sensitivity   = 0.001  # 3e-4\n",
    "lockin_HF.time_constant =  tau\n",
    "\n",
    "print(lockin_HF.sensitivity) # in Volts"
   ]
  },
  {
   "cell_type": "code",
   "execution_count": 9,
   "id": "f2f3d355",
   "metadata": {},
   "outputs": [],
   "source": [
    "control_instr_dict = {\n",
    "                    'Vch': [0, yoko_Lch, 'source_voltage', 'ramp_to_voltage', 'V'],\n",
    "                    'Vpinch': [0, yoko_pinch, 'source_voltage', 'ramp_to_voltage', 'V'],\n",
    "                    'VLchgt': [0, yoko_Lchgt, 'source_voltage', 'ramp_to_voltage', 'V'],\n",
    "                    'VgtAll': [0, yoko_gtAll, 'source_voltage', 'ramp_to_voltage', 'V'],\n",
    "                    'Vrs': [0.7, yoko_res, 'source_voltage', 'ramp_to_voltage', 'V'],\n",
    "                    'Vac': [0.05, generator, 'amplitude', 'ramp_to_amplitude', 'Vpp'],\n",
    "                    'fac': [3*MHz, generator, 'frequency', 'ramp_to_frequency', 'Hz']\n",
    "}\n",
    "\n",
    "vna_control_dict = {\n",
    "                    'set_full' : [(\"cmTest\", 'S21', 1), vna, 'set_full_measure'],\n",
    "                    'format': [('MLOG',), vna, 'set_format'],  # Note the comma after 'MLOG'\n",
    "                    'power' : [(-30,), vna, 'set_power'], \n",
    "                    'avg' : [(\"OFF\",), vna, 'set_average_state'],  \n",
    "                    'num_avg': [(5,), vna, 'set_averages'], \n",
    "                    'output': [(False,), vna, 'set_output'],  \n",
    "                    'sweep_pts': [(5,), vna, 'set_sweep_points'],  \n",
    "                    'electrical_delay': [(49.11e-9,), vna, 'set_electrical_delay'],  \n",
    "                    'start_freq': [(3e9,), vna, 'set_start_frequency'],\n",
    "                    'stop_freq': [(6e9,), vna, 'set_stop_frequency']\n",
    "\n",
    "\n",
    "}\n",
    "\n",
    "readout_instr_dict = {\n",
    "                    'Vx': [lockin_HF, 'x', 'V'],\n",
    "                    'Vy': [lockin_HF, 'y', 'V'],\n",
    "                    'vna_freq' : [vna, 'get_fpoints', 'Hz'],\n",
    "                    'vna_y1' : [vna, 'read_data_y1', 'U'],\n",
    "                    'vna_y2' : [vna, 'read_data_y2', 'U']\n",
    "}"
   ]
  },
  {
   "cell_type": "code",
   "execution_count": 10,
   "id": "bbd89a46",
   "metadata": {},
   "outputs": [
    {
     "name": "stdout",
     "output_type": "stream",
     "text": [
      "--------  -----------\n",
      "V14       0\n",
      "V23       0\n",
      "Vac       0.05\n",
      "Vch       0\n",
      "Vgt       0\n",
      "Vrs       0.7\n",
      "comment   None\n",
      "comment2  None\n",
      "fac       3,000,000.0\n",
      "tconst    0.1\n",
      "--------  -----------\n"
     ]
    }
   ],
   "source": [
    "exp = experiment_CM3(control_instr_dict, vna_control_dict, readout_instr_dict)"
   ]
  },
  {
   "attachments": {},
   "cell_type": "markdown",
   "id": "84fe62e2",
   "metadata": {},
   "source": [
    "## 🏆 **1D scan / sweep** "
   ]
  },
  {
   "cell_type": "code",
   "execution_count": 11,
   "id": "d6d3650f",
   "metadata": {},
   "outputs": [
    {
     "name": "stdout",
     "output_type": "stream",
     "text": [
      "--------  ----------------------------------------\n",
      "V14       0.0 / off=0.0\n",
      "V23       0.0 / off=0.0\n",
      "Vac       0.04\n",
      "Vch       0.0\n",
      "Vgt       0\n",
      "Vrs       0.4\n",
      "comment   Tmxc=550mK / gain=+40dB / sourceatt-20dB\n",
      "comment2  None\n",
      "fac       3,000,000.0\n",
      "tconst    0.1\n",
      "--------  ----------------------------------------\n"
     ]
    }
   ],
   "source": [
    "integration_time = 0.1\n",
    "\n",
    "T6 = round(bluefors.get_temperature(6)*1e3)\n",
    "\n",
    "vna_onoff = True\n",
    "lockin_HF.time_constant =  integration_time\n",
    "\n",
    "exp.Vac = 0.04\n",
    "exp.fac = 3.0*MHz \n",
    "exp.Vch = 0.0 \n",
    "exp.VLchgt = 0.0\n",
    "exp.VgtAll = 0.0\n",
    "exp.Vpinch = 0.0\n",
    "exp.Vrs = 0.4\n",
    "exp.tconst = integration_time\n",
    "exp.comment = f'Tmxc={T6}mK / gain=+40dB '\n",
    "exp.comment2 = f'vna output {rf_onoff} / vna added atten -20dB'\n",
    "\n",
    "print(tabulate(exp.gettable_ClassAttributes()))"
   ]
  },
  {
   "cell_type": "code",
   "execution_count": 12,
   "id": "68071b4b",
   "metadata": {},
   "outputs": [
    {
     "name": "stdout",
     "output_type": "stream",
     "text": [
      "instruments are initialized\n"
     ]
    }
   ],
   "source": [
    "exp.instr_init()"
   ]
  },
  {
   "cell_type": "code",
   "execution_count": 13,
   "id": "2d8189b9",
   "metadata": {},
   "outputs": [
    {
     "name": "stdout",
     "output_type": "stream",
     "text": [
      "--------  ---------------------------------------------\n",
      "V14       sweep / 0.0 : 1.5 / num=71 / linear / off=0.0\n",
      "V23       sweep / 0.0 : 1.5 / num=71 / linear / off=0.0\n",
      "Vac       0.04\n",
      "Vch       sweep / 0.0 : 1.5 / num=71 / linear / off=0\n",
      "Vgt       0\n",
      "Vrs       0.4\n",
      "comment   Tmxc=550mK / gain=+40dB / sourceatt-20dB\n",
      "comment2  None\n",
      "fac       3,000,000.0\n",
      "tconst    0.1\n",
      "--------  ---------------------------------------------\n",
      "experiment time is approx 26 sec\n"
     ]
    }
   ],
   "source": [
    "#s1 & s2 are sweep start and stop, for HF measurements can go to log scale\n",
    "\n",
    "exp.sweep_params(\n",
    "    var     =   ['Vch'],\n",
    "    s1      =   0.0, \n",
    "    s2      =   1.5,  \n",
    "    num     =   71,\n",
    "    scale   =   'linear',\n",
    "    offset  =   [0]\n",
    ")\n",
    "\n",
    "print(tabulate(exp.gettable_ClassAttributes()))\n",
    "print(exp.estimate_run_time(exp_type='1D', vna_type=True))"
   ]
  },
  {
   "cell_type": "markdown",
   "id": "ced31d42",
   "metadata": {},
   "source": [
    "#### 💬 **DONT FORGET TO CHANGE Experiment name**"
   ]
  },
  {
   "cell_type": "code",
   "execution_count": 14,
   "id": "0c7f6718",
   "metadata": {},
   "outputs": [
    {
     "name": "stderr",
     "output_type": "stream",
     "text": [
      "100%|███████████████████████████████████████████████████████████████| 71/71 [00:25<00:00,  2.82it/s]"
     ]
    },
    {
     "name": "stdout",
     "output_type": "stream",
     "text": [
      "experiment is successfully finished\n",
      "closed db\n"
     ]
    },
    {
     "name": "stderr",
     "output_type": "stream",
     "text": [
      "\n"
     ]
    }
   ],
   "source": [
    "exp_name = 'sweep_A0'\n",
    "\n",
    "exp.run(exp_name, exp_type = '1D', vna_type = True, lockin_type = False, savedata=True)"
   ]
  },
  {
   "cell_type": "markdown",
   "id": "d3114b1f",
   "metadata": {},
   "source": [
    "## 🎯 **2D scan / sweep / step**"
   ]
  },
  {
   "cell_type": "code",
   "execution_count": 15,
   "id": "14c6aba0",
   "metadata": {},
   "outputs": [
    {
     "name": "stdout",
     "output_type": "stream",
     "text": [
      "--------  ----------------------------------------\n",
      "V14       0.0 / off=0.0\n",
      "V23       0.0 / off=0.0\n",
      "Vac       0.04\n",
      "Vch       0.0\n",
      "Vgt       0\n",
      "Vrs       0.4\n",
      "comment   Tmxc=550mK / gain=+40dB / sourceatt-20dB\n",
      "comment2  None\n",
      "fac       3,000,000.0\n",
      "tconst    0.1\n",
      "--------  ----------------------------------------\n"
     ]
    }
   ],
   "source": [
    "o23 = 0.0\n",
    "o14 = 0.0\n",
    "integration_time = 0.1\n",
    "\n",
    "T6 = round(bluefors.get_temperature(6)*1e3)\n",
    "\n",
    "# rf_onoff = True\n",
    "# print(f'SignalCore output will be {rf_onoff}')\n",
    "\n",
    "lockin_HF.time_constant =  integration_time\n",
    "\n",
    "# exp.hf_freq = round(5.5*GHz)\n",
    "# exp.hf_pow = -25\n",
    "# exp.sa_freq = round(5.5*GHz)\n",
    "exp.Vac = 0.04\n",
    "exp.fac = 3.0*MHz\n",
    "exp.Vch = 0.0\n",
    "exp.V14 = {'val': 0.0, 'off': o14}\n",
    "exp.V23 = {'val': 0.0, 'off': o23}\n",
    "exp.Vgt = 0\n",
    "exp.Vrs = 0.4\n",
    "exp.tconst = integration_time\n",
    "exp.comment = f'Tmxc={T6}mK / gain=+40dB / sourceatt-20dB'\n",
    "# exp.comment2 = f'RF output {rf_onoff} / RF-10dB / adding constriction'\n",
    "\n",
    "print(tabulate(exp.gettable_ClassAttributes()))"
   ]
  },
  {
   "cell_type": "code",
   "execution_count": 16,
   "id": "ae53e468",
   "metadata": {},
   "outputs": [
    {
     "name": "stdout",
     "output_type": "stream",
     "text": [
      "instruments are initialized\n"
     ]
    }
   ],
   "source": [
    "exp.instr_init()"
   ]
  },
  {
   "cell_type": "code",
   "execution_count": 114,
   "id": "890f723c",
   "metadata": {},
   "outputs": [
    {
     "name": "stdout",
     "output_type": "stream",
     "text": [
      "--------  ---------------------------------------------\n",
      "V14       sweep / 0.4 : 2.0 / num=71 / linear / off=0.0\n",
      "V23       sweep / 0.4 : 2.0 / num=71 / linear / off=0.0\n",
      "Vac       step / 0.2 : 0.7 / num=51 / linear / off=0\n",
      "Vch       sweep / 0.4 : 2.0 / num=71 / linear / off=0\n",
      "Vgt       0\n",
      "Vrs       0.7\n",
      "comment   Tmxc=551mK / gain=+40dB / sourceatt-20dB\n",
      "comment2  RF-20dB / V23=Vch+step\n",
      "fac       3,000,000.0\n",
      "o23       step / -1.0 : 1.0 / num=41 / linear / off=0\n",
      "tconst    0.1\n",
      "--------  ---------------------------------------------\n",
      "experiment time is approx 32.3 mins\n"
     ]
    }
   ],
   "source": [
    "exp.sweep_params(\n",
    "    var     =   ['Vch', 'V14', 'V23'],\n",
    "    s1      =   0.0,\n",
    "    s2      =   1.5,\n",
    "    num     =   61,\n",
    "    scale   =   'linear',\n",
    "    offset  =   [0, o14, o23]\n",
    ")\n",
    "\n",
    "exp.step_params(\n",
    "    var     =   'V23', #['hf_freq','sa_freq'],\n",
    "    s1      =   0.2,\n",
    "    s2      =   0.7,\n",
    "    num     =   51,\n",
    "    scale   =   'linear',\n",
    "    offset  =   0\n",
    ")\n",
    "print(tabulate(exp.gettable_ClassAttributes()))\n",
    "print(exp.estimate_run_time(exp_type='2D'))"
   ]
  },
  {
   "cell_type": "code",
   "execution_count": 115,
   "id": "377f73e7",
   "metadata": {},
   "outputs": [
    {
     "name": "stderr",
     "output_type": "stream",
     "text": [
      "loop 51/51: 100%|███████████████████████████████████████████████████| 71/71 [00:25<00:00,  2.81it/s]"
     ]
    },
    {
     "name": "stdout",
     "output_type": "stream",
     "text": [
      "experiment is successfully finished\n",
      "closed db\n"
     ]
    },
    {
     "name": "stderr",
     "output_type": "stream",
     "text": [
      "\n"
     ]
    }
   ],
   "source": [
    "exp_name = 'sweep_A1'\n",
    "# sc.set_output_state(rf_onoff)\n",
    "exp.run(exp_name, exp_type='2D')\n",
    "# sc.set_output_state(False)"
   ]
  },
  {
   "cell_type": "markdown",
   "id": "b254a724",
   "metadata": {},
   "source": [
    "## 🏀 **set of 1D-scans with outer loop**"
   ]
  },
  {
   "cell_type": "code",
   "execution_count": 48,
   "id": "26aab29c",
   "metadata": {},
   "outputs": [
    {
     "name": "stdout",
     "output_type": "stream",
     "text": [
      "--------  ----------------------------------------\n",
      "V14       0.0 / off=0.0\n",
      "V23       0.0 / off=0.0\n",
      "Vac       0.04\n",
      "Vch       0.0\n",
      "Vgt       0\n",
      "Vrs       0.4\n",
      "comment   Tmxc=550mK / gain=+40dB / sourceatt-20dB\n",
      "comment2  RF-20dB / V14=Vch+step-o14\n",
      "fac       3,000,000.0\n",
      "tconst    0.3\n",
      "--------  ----------------------------------------\n"
     ]
    }
   ],
   "source": [
    "o23 = 0.0\n",
    "o14 = 0.0\n",
    "integration_time = 0.3\n",
    "\n",
    "T6 = round(bluefors.get_temperature(6)*1e3)\n",
    "\n",
    "# rf_onoff = True\n",
    "# print(f'SignalCore output will be {rf_onoff}')\n",
    "\n",
    "lockin_HF.time_constant =  integration_time\n",
    "\n",
    "# exp.hf_freq = round(5.5*GHz)\n",
    "# exp.hf_pow = -10\n",
    "# exp.sa_freq = round(5.5*GHz)\n",
    "exp.Vac = 0.04\n",
    "exp.fac = 3.0*MHz\n",
    "exp.Vch = 0.0\n",
    "exp.V14 = {'val': 0.0, 'off': o14}\n",
    "exp.V23 = {'val': 0.0, 'off': o23}\n",
    "exp.Vgt = 0\n",
    "exp.Vrs = 0.4\n",
    "exp.tconst = integration_time\n",
    "exp.comment = f'Tmxc={T6}mK / gain=+40dB / sourceatt-20dB'\n",
    "# exp.comment2 = f'RF {rf_onoff} / RF-10dB'\n",
    "\n",
    "print(tabulate(exp.gettable_ClassAttributes()))"
   ]
  },
  {
   "cell_type": "code",
   "execution_count": 49,
   "id": "67bdd5d1",
   "metadata": {},
   "outputs": [
    {
     "name": "stdout",
     "output_type": "stream",
     "text": [
      "instruments are initialized\n"
     ]
    }
   ],
   "source": [
    "exp.instr_init()"
   ]
  },
  {
   "cell_type": "code",
   "execution_count": 50,
   "id": "d795b4e6",
   "metadata": {},
   "outputs": [
    {
     "name": "stdout",
     "output_type": "stream",
     "text": [
      "--------  ----------------------------------------------\n",
      "V14       sweep / 0.0 : 1.0 / num=121 / linear / off=0.0\n",
      "V23       sweep / 0.0 : 1.0 / num=121 / linear / off=0.0\n",
      "Vac       0.04\n",
      "Vch       sweep / 0.0 : 1.0 / num=121 / linear / off=0\n",
      "Vgt       0\n",
      "Vrs       0.4\n",
      "comment   Tmxc=550mK / gain=+40dB / sourceatt-20dB\n",
      "comment2  RF-20dB / V14=Vch+step-o14\n",
      "d14       step / -0.4 : -0.1 / num=6 / linear / off=0\n",
      "fac       3,000,000.0\n",
      "tconst    0.3\n",
      "--------  ----------------------------------------------\n",
      "experiment time is approx 13.7 mins\n"
     ]
    }
   ],
   "source": [
    "step_control_parameter = 'd14'\n",
    "step_list = np.linspace(-0.4, -0.1, num=6)\n",
    "sweep_list = np.linspace(0.0, 1.0, num=121)\n",
    "\n",
    "setattr(exp, step_control_parameter, 0)\n",
    "\n",
    "exp.step_params(\n",
    "    var     =   step_control_parameter,\n",
    "    s1      =   step_list[0],\n",
    "    s2      =   step_list[-1],\n",
    "    num     =   len(step_list),\n",
    "    scale   =   'linear',\n",
    "    offset  =   0\n",
    ")\n",
    "\n",
    "exp.sweep_params(\n",
    "    var     =   ['Vch', 'V14', 'V23'],\n",
    "    s1      =   sweep_list[0],\n",
    "    s2      =   sweep_list[-1],\n",
    "    num     =   len(sweep_list),\n",
    "    scale   =   'linear',\n",
    "    offset  =   [0, o14, o23]\n",
    ")\n",
    "\n",
    "exp.comment2 = f'RF-20dB / V14=Vch+step-o14'\n",
    "\n",
    "print(tabulate(exp.gettable_ClassAttributes()))\n",
    "print(exp.estimate_run_time(exp_type='2D'))"
   ]
  },
  {
   "cell_type": "code",
   "execution_count": 51,
   "id": "19d7ad13",
   "metadata": {},
   "outputs": [
    {
     "name": "stderr",
     "output_type": "stream",
     "text": [
      "100%|█████████████████████████████████████████████████████████████| 121/121 [01:54<00:00,  1.06it/s]"
     ]
    },
    {
     "name": "stdout",
     "output_type": "stream",
     "text": [
      "\n",
      "experiment is successfully finished\n"
     ]
    },
    {
     "name": "stderr",
     "output_type": "stream",
     "text": [
      "\n"
     ]
    }
   ],
   "source": [
    "exp_name = 'sweep_A6c'\n",
    "# sc.set_output_state(rf_onoff)\n",
    "\n",
    "db = exp.create_sqldb(exp_name)\n",
    "\n",
    "# exp.run(exp_name, exp_type='2D')\n",
    "# sc.set_output_state(False)\n",
    "\n",
    "for d14 in step_list:\n",
    "    exp.sweep_params(\n",
    "        var     =   ['Vch', 'V14', 'V23'],\n",
    "    s1      =   sweep_list[0],\n",
    "    s2      =   sweep_list[-1],\n",
    "    num     =   len(sweep_list),\n",
    "        scale   =   'linear',\n",
    "        offset  =   [0, -1*d14-o14, o23]\n",
    "    )\n",
    "    exp.run_outerloop(sqldb=db, exp_name=exp_name)\n",
    "\n",
    "exp.close_sqldb(db)\n",
    "print('experiment is successfully finished')\n",
    "delattr(exp, step_control_parameter)\n",
    "\n",
    "# sc.set_output_state(False)"
   ]
  },
  {
   "attachments": {},
   "cell_type": "markdown",
   "id": "fc29d10c",
   "metadata": {},
   "source": [
    "## **Set of 1D scans**"
   ]
  },
  {
   "cell_type": "markdown",
   "id": "f80395fc",
   "metadata": {},
   "source": [
    "## 🎻 **set of 2D scans**"
   ]
  },
  {
   "cell_type": "code",
   "execution_count": 29,
   "id": "25cbc252",
   "metadata": {},
   "outputs": [],
   "source": [
    "hffreq_list = [4.22*GHz, 4.72*GHz, 5.22*GHz, 5.72*GHz, 6.47*GHz, 7.51*GHz, 7.65*GHz]"
   ]
  },
  {
   "cell_type": "code",
   "execution_count": 30,
   "id": "b54030b8",
   "metadata": {},
   "outputs": [
    {
     "name": "stderr",
     "output_type": "stream",
     "text": [
      "loop 20/20: 100%|█████████████████████████████████████████████████| 131/131 [00:54<00:00,  2.39it/s]\n"
     ]
    },
    {
     "name": "stdout",
     "output_type": "stream",
     "text": [
      "experiment is successfully finished\n",
      "closed db\n",
      "SignalCore10003410 : Set output state to False\n"
     ]
    },
    {
     "data": {
      "text/plain": [
       "0"
      ]
     },
     "execution_count": 30,
     "metadata": {},
     "output_type": "execute_result"
    }
   ],
   "source": [
    "rf_onoff = True\n",
    "sc.set_output_state(rf_onoff)\n",
    "\n",
    "sweep_num_today = \n",
    "\n",
    "for i in range(len(hffreq_list)):\n",
    "\n",
    "    T6 = round(bluefors.get_temperature(6)*1e3)\n",
    "    \n",
    "    exp.hf_freq = round(hffreq_list[i])\n",
    "    exp.sa_freq = round(hffreq_list[i])\n",
    "    exp.hf_pow = -25\n",
    "    exp.Vac = 0.03\n",
    "    exp.Vch = 0.25\n",
    "    exp.V14 = {'val': 0.25, 'off': o14}\n",
    "    exp.V23 = {'val': 0.25, 'off': o23}\n",
    "    exp.Vgt = 0\n",
    "    exp.Vrs = 0.7\n",
    "    exp.tconst = 0.1\n",
    "    exp.comment = f'Tmxc={T6}mK / gain=+40dB / sourceatt-20dB / HF_biastees / HF circuit setup / RF-10dB '\n",
    "    exp.extra_comment = f'RF {rf_onoff}'\n",
    "\n",
    "    exp.instr_init()\n",
    "\n",
    "    exp.sweep_params(\n",
    "        var     =   ['Vch', 'V23', 'V14'],\n",
    "        s1      =   0.4,\n",
    "        s2      =   1.7,\n",
    "        num     =   131,\n",
    "        scale   =   'linear',\n",
    "        offset  =   [0, o23, o14]\n",
    "    )\n",
    "\n",
    "    exp.step_params(\n",
    "        var     =   'hf_pow',\n",
    "        s1      =   -25,\n",
    "        s2      =   -5,\n",
    "        num     =   20,\n",
    "        scale   =   'linear',\n",
    "        offset  =   0\n",
    "    )\n",
    "    exp_name = 'sweep_' + str(i+sweep_num_today)\n",
    "    exp.run_2D(exp_name)\n",
    "\n",
    "sleep(1)\n",
    "sc.set_output_state(False)"
   ]
  },
  {
   "cell_type": "code",
   "execution_count": 12,
   "id": "6670f0c9",
   "metadata": {},
   "outputs": [],
   "source": [
    "o14 = -0.3\n",
    "o23 = -0.3"
   ]
  },
  {
   "cell_type": "code",
   "execution_count": 118,
   "id": "62e101c2",
   "metadata": {},
   "outputs": [
    {
     "name": "stdout",
     "output_type": "stream",
     "text": [
      "SignalCore10003410 : Set output state to True\n",
      "-------------  ----------------------------------------------------------------------------------\n",
      "V14            0.15 / off=-0.3\n",
      "V23            0.15 / off=-0.3\n",
      "Vac            0.03\n",
      "Vch            0.15\n",
      "Vgt            0\n",
      "Vrs            0.6\n",
      "comment        Tmxc=17mK / gain=+40dB / sourceatt-20dB / HF_biastees / HF circuit setup / RF-10dB\n",
      "comment2       RF True / RF-10dB / V14=V23=Vch+step\n",
      "extra_comment  RF True\n",
      "fac            3,000,000.0\n",
      "hf_freq        5,500,000,000\n",
      "hf_pow         -10\n",
      "sa_freq        5,500,000,000\n",
      "tconst         0.1\n",
      "-------------  ----------------------------------------------------------------------------------\n"
     ]
    }
   ],
   "source": [
    "rf_onoff = True\n",
    "sc.set_output_state(rf_onoff)\n",
    "T6 = round(bluefors.get_temperature(6)*1e3)\n",
    "\n",
    "def set_init(value):\n",
    "    exp.Vac = 0.03\n",
    "    exp.fac = 3.0*MHz\n",
    "    exp.Vch = 0.15\n",
    "    exp.V14 = {'val': 0.15, 'off': value}\n",
    "    exp.V23 = {'val': 0.15, 'off': value}\n",
    "    exp.Vgt = 0\n",
    "    exp.Vrs = 0.6\n",
    "    exp.tconst = 0.1\n",
    "    exp.comment = f'Tmxc={T6}mK / gain=+40dB / sourceatt-20dB / HF_biastees / HF circuit setup / RF-10dB '\n",
    "    exp.extra_comment = f'RF {rf_onoff}'\n",
    "\n",
    "set_init(o14)\n",
    "set_init(o23)\n",
    "print(tabulate(exp.gettable_ClassAttributes()))"
   ]
  },
  {
   "cell_type": "code",
   "execution_count": 119,
   "id": "4f15fe7e",
   "metadata": {},
   "outputs": [
    {
     "name": "stdout",
     "output_type": "stream",
     "text": [
      "instruments are initialized\n"
     ]
    }
   ],
   "source": [
    "exp.instr_init()"
   ]
  },
  {
   "cell_type": "code",
   "execution_count": 120,
   "id": "ef341c64",
   "metadata": {},
   "outputs": [],
   "source": [
    "exp.sweep_params(\n",
    "        var     =   ['Vch', 'V23', 'V14'],\n",
    "        s1      =   0.15,\n",
    "        s2      =   2.0,\n",
    "        num     =   101,\n",
    "        scale   =   'linear',\n",
    "        offset  =   [0, 0, 0]\n",
    "    )"
   ]
  },
  {
   "cell_type": "code",
   "execution_count": 121,
   "id": "81a8b6e7",
   "metadata": {},
   "outputs": [
    {
     "ename": "AttributeError",
     "evalue": "'experiment' object has no attribute 'create_file_outer_loop'",
     "output_type": "error",
     "traceback": [
      "\u001b[1;31m---------------------------------------------------------------------------\u001b[0m",
      "\u001b[1;31mAttributeError\u001b[0m                            Traceback (most recent call last)",
      "Cell \u001b[1;32mIn [121], line 9\u001b[0m\n\u001b[0;32m      3\u001b[0m o14_list \u001b[39m=\u001b[39m np\u001b[39m.\u001b[39mlinspace(\u001b[39m-\u001b[39m\u001b[39m0.3\u001b[39m, \u001b[39m0.1\u001b[39m, num\u001b[39m=\u001b[39m\u001b[39m4\u001b[39m, endpoint\u001b[39m=\u001b[39m\u001b[39mTrue\u001b[39;00m)\n\u001b[0;32m      4\u001b[0m step_dict \u001b[39m=\u001b[39m {\n\u001b[0;32m      5\u001b[0m     \u001b[39m'\u001b[39m\u001b[39mstep vars\u001b[39m\u001b[39m'\u001b[39m: [\u001b[39m'\u001b[39m\u001b[39mo14\u001b[39m\u001b[39m'\u001b[39m, \u001b[39m'\u001b[39m\u001b[39mo23\u001b[39m\u001b[39m'\u001b[39m],\n\u001b[0;32m      6\u001b[0m     \u001b[39m'\u001b[39m\u001b[39mstep lists\u001b[39m\u001b[39m'\u001b[39m: [o14_list]\n\u001b[0;32m      7\u001b[0m }\n\u001b[1;32m----> 9\u001b[0m exp\u001b[39m.\u001b[39;49mcreate_file_outer_loop(exp_name, step_dict)\n\u001b[0;32m     11\u001b[0m \u001b[39mfor\u001b[39;00m i \u001b[39min\u001b[39;00m \u001b[39mrange\u001b[39m(\u001b[39mlen\u001b[39m(o14_list)):\n\u001b[0;32m     12\u001b[0m     clear_output(wait\u001b[39m=\u001b[39m\u001b[39mTrue\u001b[39;00m)\n",
      "\u001b[1;31mAttributeError\u001b[0m: 'experiment' object has no attribute 'create_file_outer_loop'"
     ]
    }
   ],
   "source": [
    "exp_name = 'sweep_16'\n",
    "\n",
    "o14_list = np.linspace(-0.3, 0.1, num=4, endpoint=True)\n",
    "step_dict = {\n",
    "    'step vars': ['o14', 'o23'],\n",
    "    'step lists': [o14_list]\n",
    "}\n",
    "\n",
    "exp.create_file_outer_loop(exp_name, step_dict)\n",
    "\n",
    "for i in range(len(o14_list)):\n",
    "    clear_output(wait=True)\n",
    "    print('step progress ' + str(i) + '/' + str(len(o14_list)))\n",
    "    \n",
    "    set_init(o14_list[i])\n",
    "    exp.instr_init()\n",
    "    exp.sweep_params(\n",
    "        var     =   ['Vch', 'V23', 'V14'],\n",
    "        s1      =   0.15,\n",
    "        s2      =   2.0,\n",
    "        num     =   101,\n",
    "        scale   =   'linear',\n",
    "        offset  =   [0, o14_list[i], o14_list[i]]\n",
    "    )\n",
    "    exp.run_1D(exp_name, savedata=False)\n",
    "    exp.update_file_outer_loop()\n",
    "print('experiment is successfully finished')"
   ]
  },
  {
   "cell_type": "code",
   "execution_count": null,
   "id": "a32ed6c6",
   "metadata": {},
   "outputs": [],
   "source": []
  }
 ],
 "metadata": {
  "kernelspec": {
   "display_name": "Python 3.9.13 ('measure')",
   "language": "python",
   "name": "python3"
  },
  "language_info": {
   "codemirror_mode": {
    "name": "ipython",
    "version": 3
   },
   "file_extension": ".py",
   "mimetype": "text/x-python",
   "name": "python",
   "nbconvert_exporter": "python",
   "pygments_lexer": "ipython3",
   "version": "3.9.18"
  },
  "vscode": {
   "interpreter": {
    "hash": "2bc1f0e1e95f9972cd8f233e8fd6a33ac438078296e825122029828ce1f45e7b"
   }
  }
 },
 "nbformat": 4,
 "nbformat_minor": 5
}
